{
 "cells": [
  {
   "cell_type": "markdown",
   "metadata": {},
   "source": [
    "### Dependencies"
   ]
  },
  {
   "cell_type": "code",
   "execution_count": 68,
   "metadata": {},
   "outputs": [],
   "source": [
    "%%capture\n",
    "!pip install -q -U openai langchain\n",
    "!pip install -q -U requests\n",
    "!pip install -q -U scrapy selenium\n",
    "!apt install chromium-chromedriver\n",
    "!pip install jq\n",
    "!pip install -q -U faiss-cpu tiktoken"
   ]
  },
  {
   "cell_type": "code",
   "execution_count": 79,
   "metadata": {},
   "outputs": [],
   "source": [
    "import os\n",
    "import getpass\n",
    "import numpy as np\n",
    "import pandas as pd\n",
    "from scrapy.selector import Selector\n",
    "from selenium import webdriver\n",
    "from selenium.webdriver.common.by import By\n",
    "from selenium.webdriver.common.keys import Keys\n",
    "import time\n",
    "from tqdm import tqdm\n",
    "import warnings\n",
    "from langchain.document_loaders.csv_loader import CSVLoader\n",
    "from langchain.document_loaders.json_loader import JSONLoader\n",
    "\n",
    "from langchain.text_splitter import RecursiveCharacterTextSplitter\n",
    "\n",
    "from langchain.embeddings.openai import OpenAIEmbeddings\n",
    "from langchain.embeddings import CacheBackedEmbeddings\n",
    "from langchain.vectorstores import FAISS\n",
    "from langchain.storage import LocalFileStore\n",
    "\n",
    "from langchain.llms.openai import OpenAIChat\n",
    "\n",
    "from langchain.chains import RetrievalQA\n",
    "from langchain.callbacks import StdOutCallbackHandler\n",
    "\n",
    "\n",
    "warnings.filterwarnings(\"ignore\")"
   ]
  },
  {
   "cell_type": "markdown",
   "metadata": {},
   "source": [
    "### Data Extraction\n",
    "\n",
    "Use of Selenium to extract the information of review about the movie Barbie 2023"
   ]
  },
  {
   "cell_type": "code",
   "execution_count": 4,
   "metadata": {},
   "outputs": [],
   "source": [
    "chrome_options = webdriver.ChromeOptions()\n",
    "chrome_options.add_argument('--headless')\n",
    "chrome_options.add_argument('--no-sandbox')\n",
    "chrome_options.add_argument('--disable-dev-shm-usage')\n",
    "driver = webdriver.Chrome(options=chrome_options)"
   ]
  },
  {
   "cell_type": "code",
   "execution_count": 5,
   "metadata": {},
   "outputs": [],
   "source": [
    "url = \"https://www.imdb.com/title/tt1517268/reviews/?ref_=tt_ov_rt\"\n",
    "driver.get(url)"
   ]
  },
  {
   "cell_type": "code",
   "execution_count": 6,
   "metadata": {},
   "outputs": [],
   "source": [
    "\n",
    "sel = Selector(text = driver.page_source)\n",
    "review_counts = sel.css('.lister .header span::text').extract_first().replace(',','').split(' ')[0]\n",
    "more_review_pages = int(int(review_counts)/25)"
   ]
  },
  {
   "cell_type": "code",
   "execution_count": 7,
   "metadata": {},
   "outputs": [
    {
     "name": "stderr",
     "output_type": "stream",
     "text": [
      "100%|██████████| 46/46 [00:01<00:00, 25.43it/s]\n"
     ]
    }
   ],
   "source": [
    "for i in tqdm(range(more_review_pages)):\n",
    "    try:\n",
    "        css_selector = 'load-more-trigger'\n",
    "        driver.find_element(By.ID, css_selector).click()\n",
    "    except:\n",
    "        pass"
   ]
  },
  {
   "cell_type": "code",
   "execution_count": 8,
   "metadata": {},
   "outputs": [
    {
     "name": "stderr",
     "output_type": "stream",
     "text": [
      "100%|██████████| 125/125 [00:01<00:00, 97.82it/s] \n"
     ]
    }
   ],
   "source": [
    "rating_list = []\n",
    "review_date_list = []\n",
    "review_title_list = []\n",
    "author_list = []\n",
    "review_list = []\n",
    "review_url_list = []\n",
    "error_url_list = []\n",
    "error_msg_list = []\n",
    "reviews = driver.find_elements(By.CSS_SELECTOR, 'div.review-container')\n",
    "\n",
    "for d in tqdm(reviews):\n",
    "    try:\n",
    "        sel2 = Selector(text = d.get_attribute('innerHTML'))\n",
    "        try:\n",
    "            rating = sel2.css('.rating-other-user-rating span::text').extract_first()\n",
    "        except:\n",
    "            rating = np.NaN\n",
    "        try:\n",
    "            review = sel2.css('.text.show-more__control::text').extract_first()\n",
    "        except:\n",
    "            review = np.NaN\n",
    "        try:\n",
    "            review_date = sel2.css('.review-date::text').extract_first()\n",
    "        except:\n",
    "            review_date = np.NaN\n",
    "        try:\n",
    "            author = sel2.css('.display-name-link a::text').extract_first()\n",
    "        except:\n",
    "            author = np.NaN\n",
    "        try:\n",
    "            review_title = sel2.css('a.title::text').extract_first()\n",
    "        except:\n",
    "            review_title = np.NaN\n",
    "        try:\n",
    "            review_url = sel2.css('a.title::attr(href)').extract_first()\n",
    "        except:\n",
    "            review_url = np.NaN\n",
    "        rating_list.append(rating)\n",
    "        review_date_list.append(review_date)\n",
    "        review_title_list.append(review_title)\n",
    "        author_list.append(author)\n",
    "        review_list.append(review)\n",
    "        review_url_list.append(review_url)\n",
    "    except Exception as e:\n",
    "        error_url_list.append(url)\n",
    "        error_msg_list.append(e)\n",
    "review_df = pd.DataFrame({\n",
    "    'Review_Date':review_date_list,\n",
    "    'Author':author_list,\n",
    "    'Rating':rating_list,\n",
    "    'Review_Title':review_title_list,\n",
    "    'Review':review_list,\n",
    "    'Review_Url':review_url\n",
    "    })"
   ]
  },
  {
   "cell_type": "code",
   "execution_count": 41,
   "metadata": {},
   "outputs": [
    {
     "data": {
      "text/html": [
       "<div>\n",
       "<style scoped>\n",
       "    .dataframe tbody tr th:only-of-type {\n",
       "        vertical-align: middle;\n",
       "    }\n",
       "\n",
       "    .dataframe tbody tr th {\n",
       "        vertical-align: top;\n",
       "    }\n",
       "\n",
       "    .dataframe thead th {\n",
       "        text-align: right;\n",
       "    }\n",
       "</style>\n",
       "<table border=\"1\" class=\"dataframe\">\n",
       "  <thead>\n",
       "    <tr style=\"text-align: right;\">\n",
       "      <th></th>\n",
       "      <th>Review_Date</th>\n",
       "      <th>Author</th>\n",
       "      <th>Rating</th>\n",
       "      <th>Review_Title</th>\n",
       "      <th>Review</th>\n",
       "      <th>Review_Url</th>\n",
       "    </tr>\n",
       "  </thead>\n",
       "  <tbody>\n",
       "    <tr>\n",
       "      <th>0</th>\n",
       "      <td>21 July 2023</td>\n",
       "      <td>LoveofLegacy</td>\n",
       "      <td>6</td>\n",
       "      <td>Beautiful film, but so preachy\\n</td>\n",
       "      <td>Margot does the best with what she's given, bu...</td>\n",
       "      <td>/review/rw9239935/?ref_=tt_urv</td>\n",
       "    </tr>\n",
       "    <tr>\n",
       "      <th>1</th>\n",
       "      <td>22 July 2023</td>\n",
       "      <td>imseeg</td>\n",
       "      <td>7</td>\n",
       "      <td>3 reasons FOR seeing it and 1 reason AGAINST.\\n</td>\n",
       "      <td>The first reason to go see it:</td>\n",
       "      <td>/review/rw9239935/?ref_=tt_urv</td>\n",
       "    </tr>\n",
       "    <tr>\n",
       "      <th>2</th>\n",
       "      <td>22 July 2023</td>\n",
       "      <td>Natcat87</td>\n",
       "      <td>6</td>\n",
       "      <td>Too heavy handed\\n</td>\n",
       "      <td>As a woman that grew up with Barbie, I was ver...</td>\n",
       "      <td>/review/rw9239935/?ref_=tt_urv</td>\n",
       "    </tr>\n",
       "    <tr>\n",
       "      <th>3</th>\n",
       "      <td>31 July 2023</td>\n",
       "      <td>ramair350</td>\n",
       "      <td>10</td>\n",
       "      <td>As a guy I felt some discomfort, and that's o...</td>\n",
       "      <td>As much as it pains me to give a movie called ...</td>\n",
       "      <td>/review/rw9239935/?ref_=tt_urv</td>\n",
       "    </tr>\n",
       "    <tr>\n",
       "      <th>4</th>\n",
       "      <td>24 July 2023</td>\n",
       "      <td>heatherhilgers</td>\n",
       "      <td>9</td>\n",
       "      <td>A Technicolor Dream\\n</td>\n",
       "      <td>Wow, this movie was a love letter to cinema. F...</td>\n",
       "      <td>/review/rw9239935/?ref_=tt_urv</td>\n",
       "    </tr>\n",
       "    <tr>\n",
       "      <th>...</th>\n",
       "      <td>...</td>\n",
       "      <td>...</td>\n",
       "      <td>...</td>\n",
       "      <td>...</td>\n",
       "      <td>...</td>\n",
       "      <td>...</td>\n",
       "    </tr>\n",
       "    <tr>\n",
       "      <th>120</th>\n",
       "      <td>30 July 2023</td>\n",
       "      <td>Rice-and-Beans34</td>\n",
       "      <td>6</td>\n",
       "      <td>I don't get all the hype...\\n</td>\n",
       "      <td>This movie is many things. One may say it is a...</td>\n",
       "      <td>/review/rw9239935/?ref_=tt_urv</td>\n",
       "    </tr>\n",
       "    <tr>\n",
       "      <th>121</th>\n",
       "      <td>23 July 2023</td>\n",
       "      <td>mafiagirl-21431</td>\n",
       "      <td>8</td>\n",
       "      <td>So fun and charming!\\n</td>\n",
       "      <td>So i've just got back from theaters and all i ...</td>\n",
       "      <td>/review/rw9239935/?ref_=tt_urv</td>\n",
       "    </tr>\n",
       "    <tr>\n",
       "      <th>122</th>\n",
       "      <td>24 July 2023</td>\n",
       "      <td>steveinadelaide</td>\n",
       "      <td>6</td>\n",
       "      <td>Cute but shallow\\n</td>\n",
       "      <td>So I headed to the cinema to watch Barbie, the...</td>\n",
       "      <td>/review/rw9239935/?ref_=tt_urv</td>\n",
       "    </tr>\n",
       "    <tr>\n",
       "      <th>123</th>\n",
       "      <td>21 July 2023</td>\n",
       "      <td>GusherPop</td>\n",
       "      <td>10</td>\n",
       "      <td>Greta shows real power of woman in Barbie\\n</td>\n",
       "      <td>Greta Gerwig's Barbie explores creation myths ...</td>\n",
       "      <td>/review/rw9239935/?ref_=tt_urv</td>\n",
       "    </tr>\n",
       "    <tr>\n",
       "      <th>124</th>\n",
       "      <td>5 August 2023</td>\n",
       "      <td>HuskerNation1</td>\n",
       "      <td>7</td>\n",
       "      <td>Funny And Good Cast, But Not This \"Great\" Mov...</td>\n",
       "      <td>I wasn't dying to see this, but I felt like I ...</td>\n",
       "      <td>/review/rw9239935/?ref_=tt_urv</td>\n",
       "    </tr>\n",
       "  </tbody>\n",
       "</table>\n",
       "<p>125 rows × 6 columns</p>\n",
       "</div>"
      ],
      "text/plain": [
       "       Review_Date            Author Rating  \\\n",
       "0     21 July 2023      LoveofLegacy      6   \n",
       "1     22 July 2023            imseeg      7   \n",
       "2     22 July 2023          Natcat87      6   \n",
       "3     31 July 2023         ramair350     10   \n",
       "4     24 July 2023    heatherhilgers      9   \n",
       "..             ...               ...    ...   \n",
       "120   30 July 2023  Rice-and-Beans34      6   \n",
       "121   23 July 2023   mafiagirl-21431      8   \n",
       "122   24 July 2023   steveinadelaide      6   \n",
       "123   21 July 2023         GusherPop     10   \n",
       "124  5 August 2023     HuskerNation1      7   \n",
       "\n",
       "                                          Review_Title  \\\n",
       "0                     Beautiful film, but so preachy\\n   \n",
       "1      3 reasons FOR seeing it and 1 reason AGAINST.\\n   \n",
       "2                                   Too heavy handed\\n   \n",
       "3     As a guy I felt some discomfort, and that's o...   \n",
       "4                                A Technicolor Dream\\n   \n",
       "..                                                 ...   \n",
       "120                      I don't get all the hype...\\n   \n",
       "121                             So fun and charming!\\n   \n",
       "122                                 Cute but shallow\\n   \n",
       "123        Greta shows real power of woman in Barbie\\n   \n",
       "124   Funny And Good Cast, But Not This \"Great\" Mov...   \n",
       "\n",
       "                                                Review  \\\n",
       "0    Margot does the best with what she's given, bu...   \n",
       "1                       The first reason to go see it:   \n",
       "2    As a woman that grew up with Barbie, I was ver...   \n",
       "3    As much as it pains me to give a movie called ...   \n",
       "4    Wow, this movie was a love letter to cinema. F...   \n",
       "..                                                 ...   \n",
       "120  This movie is many things. One may say it is a...   \n",
       "121  So i've just got back from theaters and all i ...   \n",
       "122  So I headed to the cinema to watch Barbie, the...   \n",
       "123  Greta Gerwig's Barbie explores creation myths ...   \n",
       "124  I wasn't dying to see this, but I felt like I ...   \n",
       "\n",
       "                         Review_Url  \n",
       "0    /review/rw9239935/?ref_=tt_urv  \n",
       "1    /review/rw9239935/?ref_=tt_urv  \n",
       "2    /review/rw9239935/?ref_=tt_urv  \n",
       "3    /review/rw9239935/?ref_=tt_urv  \n",
       "4    /review/rw9239935/?ref_=tt_urv  \n",
       "..                              ...  \n",
       "120  /review/rw9239935/?ref_=tt_urv  \n",
       "121  /review/rw9239935/?ref_=tt_urv  \n",
       "122  /review/rw9239935/?ref_=tt_urv  \n",
       "123  /review/rw9239935/?ref_=tt_urv  \n",
       "124  /review/rw9239935/?ref_=tt_urv  \n",
       "\n",
       "[125 rows x 6 columns]"
      ]
     },
     "execution_count": 41,
     "metadata": {},
     "output_type": "execute_result"
    }
   ],
   "source": [
    "review_df"
   ]
  },
  {
   "cell_type": "code",
   "execution_count": 45,
   "metadata": {},
   "outputs": [],
   "source": [
    "review_df.to_json(\"barbie.json\", lines=True, orient=\"records\")\n",
    "#review_df.to_csv(\"barbie.csv\")"
   ]
  },
  {
   "cell_type": "code",
   "execution_count": 46,
   "metadata": {},
   "outputs": [],
   "source": [
    "json_loader = JSONLoader(\"barbie.json\", jq_schema=\".Review\", json_lines=True, )\n",
    "#csv_loader = CSVLoader(file_path=\"barbie.csv\",source_column=\"Review\",)"
   ]
  },
  {
   "cell_type": "code",
   "execution_count": 48,
   "metadata": {},
   "outputs": [],
   "source": [
    "data = json_loader.load()"
   ]
  },
  {
   "cell_type": "code",
   "execution_count": 49,
   "metadata": {},
   "outputs": [],
   "source": [
    "assert len(data) == 125"
   ]
  },
  {
   "cell_type": "markdown",
   "metadata": {},
   "source": [
    "### Data processing"
   ]
  },
  {
   "cell_type": "code",
   "execution_count": 63,
   "metadata": {},
   "outputs": [],
   "source": [
    "text_splitter = RecursiveCharacterTextSplitter(\n",
    "    chunk_size = 1000, \n",
    "    chunk_overlap = 100,\n",
    "    length_function = len,\n",
    ")"
   ]
  },
  {
   "cell_type": "code",
   "execution_count": 64,
   "metadata": {},
   "outputs": [],
   "source": [
    "documents = text_splitter.split_documents(data)"
   ]
  },
  {
   "cell_type": "code",
   "execution_count": 65,
   "metadata": {},
   "outputs": [
    {
     "data": {
      "text/plain": [
       "148"
      ]
     },
     "execution_count": 65,
     "metadata": {},
     "output_type": "execute_result"
    }
   ],
   "source": [
    "len(documents) "
   ]
  },
  {
   "cell_type": "code",
   "execution_count": 67,
   "metadata": {},
   "outputs": [],
   "source": [
    "\n",
    "assert len(documents) == 148"
   ]
  },
  {
   "cell_type": "markdown",
   "metadata": {},
   "source": [
    "### Index data\n",
    "\n",
    "Reference Vector Frameworks: FAISS, Annoy and ScANN"
   ]
  },
  {
   "cell_type": "code",
   "execution_count": 71,
   "metadata": {},
   "outputs": [],
   "source": [
    "os.environ[\"OPENAI_API_KEY\"] = getpass.getpass(\"Open AI API Key:\")"
   ]
  },
  {
   "cell_type": "code",
   "execution_count": 72,
   "metadata": {},
   "outputs": [],
   "source": [
    "#temporal folder to save information\n",
    "store = LocalFileStore(\"cache/\")\n",
    "# Open AI Embeedings - Could be replaced by any other embeddings\n",
    "core_embeddings_model = OpenAIEmbeddings()\n",
    "\n",
    "embedder = CacheBackedEmbeddings.from_bytes_store(\n",
    "    core_embeddings_model,\n",
    "    store, \n",
    "    namespace=core_embeddings_model.model\n",
    ")\n",
    "\n",
    "# FAISS vector store using local file storage\n",
    "vector_store = FAISS.from_documents(documents, embedder)"
   ]
  },
  {
   "cell_type": "code",
   "execution_count": 73,
   "metadata": {},
   "outputs": [
    {
     "name": "stdout",
     "output_type": "stream",
     "text": [
      "The first half was pretty enjoyable, fun, light, but it took itself too seriously by the second half. No longer allowing the talented cast, especially Gosling, to shine and make us laugh. It felt like the talents of Will Ferrell and Michael Cera were also somewhat underutilized. Interesting concept, had potential, but later in the movie, it definitely started to fall flat for me.\n",
      "Okay maybe it was a 9.5 because of two flaws: First was the Will Ferrell character and his board that made their point but then became superfluos. Second was that it is definitely not a kids' movie (although maybe they would see things that I didn't - I mean to be fair, the few kids in the theatre were well behaved so perhaps the movie got their full attention as well).\n",
      "I really wanted to enjoy this and I know that I am not the target audience but there were massive plot holes and no real flow. The film was very disjointed. Ryan Gosling as good as he is seemed to old to play Ken and Will Ferrell ruined every scene he was in. I just didn't get it, it seemed hollow artificial and hackneyed. A waste of some great talent. It was predictable without being reassuring and trying so hard to be woke in the most superficial way in that but trying to tick so many boxes it actually ticked none. Margo Robbie looks beautiful throughout, the costumes and the sets were amazing but the story was way too weak and didn't make much sense at all.\n",
      "Having seen this movie twice now, I've laughed, I've cried and I enjoyed every minute of this movie! When I first saw the trailer for this movie I was thinking there is no way this movie will be any good! Well I am happy to say that I am wrong because I thoroughly enjoyed this movie from beginning to end! Margot Robbie was great as Barbie while Ryan Gosling was great as Ken! It also stars America Ferreira, Will Farrell and other A-List actors! It definitely has a great story line to it and the soundtrack was also amazing! For those who are skeptical about the movie, DON'T BE! I highly recommend it.\n"
     ]
    }
   ],
   "source": [
    "query = \"How is Will Ferrell in this movie?\"\n",
    "embedding_vector = core_embeddings_model.embed_query(query)\n",
    "docs = vector_store.similarity_search_by_vector(embedding_vector, k = 4)\n",
    "\n",
    "for page in docs:\n",
    "  print(page.page_content)"
   ]
  },
  {
   "cell_type": "code",
   "execution_count": 74,
   "metadata": {},
   "outputs": [
    {
     "name": "stdout",
     "output_type": "stream",
     "text": [
      "149 ms ± 0 ns per loop (mean ± std. dev. of 1 run, 1 loop each)\n"
     ]
    }
   ],
   "source": [
    "%%timeit -n 1 -r 1\n",
    "query = \"I really wanted to enjoy this and I know that I am not the target audience but there were massive plot holes and no real flow.\"\n",
    "embedding_vector = core_embeddings_model.embed_query(query)\n",
    "docs = vector_store.similarity_search_by_vector(embedding_vector, k = 4)"
   ]
  },
  {
   "cell_type": "code",
   "execution_count": 75,
   "metadata": {},
   "outputs": [
    {
     "name": "stdout",
     "output_type": "stream",
     "text": [
      "166 ms ± 39.3 ms per loop (mean ± std. dev. of 7 runs, 10 loops each)\n"
     ]
    }
   ],
   "source": [
    "%%timeit\n",
    "query = \"I really wanted to enjoy this and I know that I am not the target audience but there were massive plot holes and no real flow.\"\n",
    "embedding_vector = core_embeddings_model.embed_query(query)\n",
    "docs = vector_store.similarity_search_by_vector(embedding_vector, k = 4)"
   ]
  },
  {
   "cell_type": "markdown",
   "metadata": {},
   "source": [
    "### QA Pipeline"
   ]
  },
  {
   "cell_type": "code",
   "execution_count": 77,
   "metadata": {},
   "outputs": [],
   "source": [
    "llm = OpenAIChat(temperature=0,)"
   ]
  },
  {
   "cell_type": "code",
   "execution_count": 78,
   "metadata": {},
   "outputs": [],
   "source": [
    "retriever = vector_store.as_retriever()"
   ]
  },
  {
   "cell_type": "code",
   "execution_count": 80,
   "metadata": {},
   "outputs": [],
   "source": [
    "# this is a callback to print the results of the LLM\n",
    "handler = StdOutCallbackHandler()\n",
    "\n",
    "qa_with_sources_chain = RetrievalQA.from_chain_type(\n",
    "    llm=llm, \n",
    "    retriever=retriever,\n",
    "    callbacks=[handler],\n",
    "    return_source_documents=True\n",
    ")"
   ]
  },
  {
   "cell_type": "code",
   "execution_count": 82,
   "metadata": {},
   "outputs": [
    {
     "name": "stdout",
     "output_type": "stream",
     "text": [
      "\n",
      "\n",
      "\u001b[1m> Entering new RetrievalQA chain...\u001b[0m\n",
      "\n",
      "\u001b[1m> Finished chain.\u001b[0m\n"
     ]
    },
    {
     "data": {
      "text/plain": [
       "{'query': 'How was Will Ferrell in this movie? Explain',\n",
       " 'result': \"Will Ferrell's performance in this movie was not well-received. The reviewer mentions that Ferrell's character and his board made their point but then became superfluous, and that Ferrell ruined every scene he was in. They also state that the talents of Ferrell and Michael Cera were underutilized. Overall, it seems that the reviewer did not enjoy Ferrell's performance in the movie.\",\n",
       " 'source_documents': [Document(page_content=\"Okay maybe it was a 9.5 because of two flaws: First was the Will Ferrell character and his board that made their point but then became superfluos. Second was that it is definitely not a kids' movie (although maybe they would see things that I didn't - I mean to be fair, the few kids in the theatre were well behaved so perhaps the movie got their full attention as well).\", metadata={'source': '/workspaces/ai-maker-space-llm-ops/A1-RAQA/notebooks/barbie.json', 'seq_num': 77}),\n",
       "  Document(page_content='The first half was pretty enjoyable, fun, light, but it took itself too seriously by the second half. No longer allowing the talented cast, especially Gosling, to shine and make us laugh. It felt like the talents of Will Ferrell and Michael Cera were also somewhat underutilized. Interesting concept, had potential, but later in the movie, it definitely started to fall flat for me.', metadata={'source': '/workspaces/ai-maker-space-llm-ops/A1-RAQA/notebooks/barbie.json', 'seq_num': 83}),\n",
       "  Document(page_content=\"I really wanted to enjoy this and I know that I am not the target audience but there were massive plot holes and no real flow. The film was very disjointed. Ryan Gosling as good as he is seemed to old to play Ken and Will Ferrell ruined every scene he was in. I just didn't get it, it seemed hollow artificial and hackneyed. A waste of some great talent. It was predictable without being reassuring and trying so hard to be woke in the most superficial way in that but trying to tick so many boxes it actually ticked none. Margo Robbie looks beautiful throughout, the costumes and the sets were amazing but the story was way too weak and didn't make much sense at all.\", metadata={'source': '/workspaces/ai-maker-space-llm-ops/A1-RAQA/notebooks/barbie.json', 'seq_num': 68}),\n",
       "  Document(page_content='I can imagine that in the boardroom they went through a discussion like this: People are going to think this is a feel good movie so we need to give them something deeper but also lets make it absurd and fast paced so that we can finish the plot quickly and also jump on the \"not taking itself serious\" bandwagon and also market these dolls again in the age of smartphone kids. The only reason this movie gets at 5 from me is the humor, which sometimes becomes very meta and creative and Margot Robbie and Ryan Gosling have acted very well. Besides this, they could have just given us a simple feel good movie and I would have respected the creators more. Pass.', metadata={'source': '/workspaces/ai-maker-space-llm-ops/A1-RAQA/notebooks/barbie.json', 'seq_num': 33})]}"
      ]
     },
     "execution_count": 82,
     "metadata": {},
     "output_type": "execute_result"
    }
   ],
   "source": [
    "\n",
    "qa_with_sources_chain({\"query\" : \"How was Will Ferrell in this movie? Explain\"})"
   ]
  },
  {
   "cell_type": "code",
   "execution_count": null,
   "metadata": {},
   "outputs": [],
   "source": []
  }
 ],
 "metadata": {
  "kernelspec": {
   "display_name": "Python 3",
   "language": "python",
   "name": "python3"
  },
  "language_info": {
   "codemirror_mode": {
    "name": "ipython",
    "version": 3
   },
   "file_extension": ".py",
   "mimetype": "text/x-python",
   "name": "python",
   "nbconvert_exporter": "python",
   "pygments_lexer": "ipython3",
   "version": "3.10.8"
  },
  "orig_nbformat": 4
 },
 "nbformat": 4,
 "nbformat_minor": 2
}
